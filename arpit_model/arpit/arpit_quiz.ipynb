{
 "cells": [
  {
   "cell_type": "code",
   "execution_count": 126,
   "metadata": {},
   "outputs": [],
   "source": [
    "import pandas as pd"
   ]
  },
  {
   "cell_type": "code",
   "execution_count": 127,
   "metadata": {},
   "outputs": [],
   "source": [
    "l=pd.read_csv(\"a1.csv\",header=None)"
   ]
  },
  {
   "cell_type": "code",
   "execution_count": 128,
   "metadata": {},
   "outputs": [],
   "source": [
    "p=l.iloc[:,:].values"
   ]
  },
  {
   "cell_type": "code",
   "execution_count": 129,
   "metadata": {},
   "outputs": [],
   "source": [
    "data=p[1:,:]"
   ]
  },
  {
   "cell_type": "code",
   "execution_count": 130,
   "metadata": {},
   "outputs": [],
   "source": [
    "x=data[:,:-1].astype(float)\n",
    "y=data[:,-1]"
   ]
  },
  {
   "cell_type": "code",
   "execution_count": 131,
   "metadata": {},
   "outputs": [
    {
     "data": {
      "text/plain": [
       "numpy.float64"
      ]
     },
     "execution_count": 131,
     "metadata": {},
     "output_type": "execute_result"
    }
   ],
   "source": [
    "type(x[0][0])"
   ]
  },
  {
   "cell_type": "code",
   "execution_count": 132,
   "metadata": {},
   "outputs": [
    {
     "name": "stdout",
     "output_type": "stream",
     "text": [
      "(96, 18)\n",
      "(96,)\n"
     ]
    }
   ],
   "source": [
    "print(x.shape)\n",
    "print(y.shape)"
   ]
  },
  {
   "cell_type": "code",
   "execution_count": 133,
   "metadata": {},
   "outputs": [],
   "source": [
    "from keras.models import Sequential\n",
    "from keras.layers import Dense\n",
    "from keras.utils import np_utils\n",
    "from sklearn.preprocessing import LabelEncoder\n"
   ]
  },
  {
   "cell_type": "code",
   "execution_count": 134,
   "metadata": {},
   "outputs": [],
   "source": [
    "from sklearn.model_selection import train_test_split\n",
    "x_train, x_test, y_train, y_test = train_test_split(x, y, test_size=0.2, random_state=42)"
   ]
  },
  {
   "cell_type": "code",
   "execution_count": 135,
   "metadata": {},
   "outputs": [],
   "source": [
    "le=LabelEncoder()\n",
    "le.fit(y_train)\n",
    "encoded_y_train=le.transform(y_train)\n",
    "one_hot_y_train=np_utils.to_categorical(encoded_y_train)"
   ]
  },
  {
   "cell_type": "code",
   "execution_count": 136,
   "metadata": {},
   "outputs": [],
   "source": [
    "le.fit(y_train)\n",
    "encoded_y_test=le.transform(y_test)\n",
    "one_hot_y_test=np_utils.to_categorical(encoded_y_test)"
   ]
  },
  {
   "cell_type": "code",
   "execution_count": 137,
   "metadata": {},
   "outputs": [
    {
     "data": {
      "text/plain": [
       "(20, 15)"
      ]
     },
     "execution_count": 137,
     "metadata": {},
     "output_type": "execute_result"
    }
   ],
   "source": [
    "one_hot_y_test.shape"
   ]
  },
  {
   "cell_type": "code",
   "execution_count": 157,
   "metadata": {},
   "outputs": [],
   "source": [
    "model=Sequential()\n",
    "model.add(Dense(36,input_dim=18,activation='tanh'))\n",
    "model.add(Dense(15,activation='softmax'))\n",
    "model.compile(loss='categorical_crossentropy',optimizer='adam',metrics=['accuracy'])\n",
    "\n"
   ]
  },
  {
   "cell_type": "code",
   "execution_count": 244,
   "metadata": {},
   "outputs": [
    {
     "name": "stdout",
     "output_type": "stream",
     "text": [
      "Epoch 1/40\n",
      "76/76 [==============================] - 0s 2ms/step - loss: 1.8038 - acc: 0.6974\n",
      "Epoch 2/40\n",
      "76/76 [==============================] - 0s 212us/step - loss: 1.7724 - acc: 0.6974\n",
      "Epoch 3/40\n",
      "76/76 [==============================] - 0s 123us/step - loss: 1.7412 - acc: 0.6974\n",
      "Epoch 4/40\n",
      "76/76 [==============================] - 0s 153us/step - loss: 1.7108 - acc: 0.6974\n",
      "Epoch 5/40\n",
      "76/76 [==============================] - 0s 326us/step - loss: 1.6802 - acc: 0.6974\n",
      "Epoch 6/40\n",
      "76/76 [==============================] - 0s 148us/step - loss: 1.6510 - acc: 0.6974\n",
      "Epoch 7/40\n",
      "76/76 [==============================] - 0s 293us/step - loss: 1.6214 - acc: 0.6974\n",
      "Epoch 8/40\n",
      "76/76 [==============================] - 0s 190us/step - loss: 1.5923 - acc: 0.6974\n",
      "Epoch 9/40\n",
      "76/76 [==============================] - 0s 122us/step - loss: 1.5640 - acc: 0.6974\n",
      "Epoch 10/40\n",
      "76/76 [==============================] - 0s 129us/step - loss: 1.5358 - acc: 0.6974\n",
      "Epoch 11/40\n",
      "76/76 [==============================] - 0s 116us/step - loss: 1.5083 - acc: 0.6974\n",
      "Epoch 12/40\n",
      "76/76 [==============================] - 0s 120us/step - loss: 1.4811 - acc: 0.6974\n",
      "Epoch 13/40\n",
      "76/76 [==============================] - 0s 193us/step - loss: 1.4536 - acc: 0.6974\n",
      "Epoch 14/40\n",
      "76/76 [==============================] - 0s 143us/step - loss: 1.4277 - acc: 0.6974\n",
      "Epoch 15/40\n",
      "76/76 [==============================] - 0s 128us/step - loss: 1.4015 - acc: 0.6974\n",
      "Epoch 16/40\n",
      "76/76 [==============================] - 0s 246us/step - loss: 1.3758 - acc: 0.6974\n",
      "Epoch 17/40\n",
      "76/76 [==============================] - 0s 159us/step - loss: 1.3506 - acc: 0.6974\n",
      "Epoch 18/40\n",
      "76/76 [==============================] - 0s 229us/step - loss: 1.3259 - acc: 0.6974\n",
      "Epoch 19/40\n",
      "76/76 [==============================] - 0s 153us/step - loss: 1.3019 - acc: 0.6974\n",
      "Epoch 20/40\n",
      "76/76 [==============================] - 0s 151us/step - loss: 1.2784 - acc: 0.6974\n",
      "Epoch 21/40\n",
      "76/76 [==============================] - 0s 99us/step - loss: 1.2552 - acc: 0.6974\n",
      "Epoch 22/40\n",
      "76/76 [==============================] - 0s 154us/step - loss: 1.2323 - acc: 0.6974\n",
      "Epoch 23/40\n",
      "76/76 [==============================] - 0s 124us/step - loss: 1.2101 - acc: 0.7500\n",
      "Epoch 24/40\n",
      "76/76 [==============================] - 0s 228us/step - loss: 1.1886 - acc: 0.7632\n",
      "Epoch 25/40\n",
      "76/76 [==============================] - 0s 193us/step - loss: 1.1666 - acc: 0.7632\n",
      "Epoch 26/40\n",
      "76/76 [==============================] - 0s 142us/step - loss: 1.1465 - acc: 0.7632\n",
      "Epoch 27/40\n",
      "76/76 [==============================] - 0s 167us/step - loss: 1.1258 - acc: 0.7632\n",
      "Epoch 28/40\n",
      "76/76 [==============================] - 0s 201us/step - loss: 1.1056 - acc: 0.7632\n",
      "Epoch 29/40\n",
      "76/76 [==============================] - 0s 239us/step - loss: 1.0862 - acc: 0.7632\n",
      "Epoch 30/40\n",
      "76/76 [==============================] - 0s 124us/step - loss: 1.0675 - acc: 0.7632\n",
      "Epoch 31/40\n",
      "76/76 [==============================] - 0s 149us/step - loss: 1.0487 - acc: 0.7632\n",
      "Epoch 32/40\n",
      "76/76 [==============================] - 0s 171us/step - loss: 1.0300 - acc: 0.7632\n",
      "Epoch 33/40\n",
      "76/76 [==============================] - 0s 157us/step - loss: 1.0126 - acc: 0.7632\n",
      "Epoch 34/40\n",
      "76/76 [==============================] - 0s 135us/step - loss: 0.9943 - acc: 0.7632\n",
      "Epoch 35/40\n",
      "76/76 [==============================] - 0s 159us/step - loss: 0.9771 - acc: 0.7632\n",
      "Epoch 36/40\n",
      "76/76 [==============================] - 0s 189us/step - loss: 0.9606 - acc: 0.7632\n",
      "Epoch 37/40\n",
      "76/76 [==============================] - 0s 187us/step - loss: 0.9437 - acc: 0.7632\n",
      "Epoch 38/40\n",
      "76/76 [==============================] - 0s 180us/step - loss: 0.9276 - acc: 0.7632\n",
      "Epoch 39/40\n",
      "76/76 [==============================] - 0s 88us/step - loss: 0.9118 - acc: 0.7632\n",
      "Epoch 40/40\n",
      "76/76 [==============================] - 0s 183us/step - loss: 0.8964 - acc: 0.8158\n"
     ]
    },
    {
     "data": {
      "text/plain": [
       "<keras.callbacks.History at 0x7f1bca767940>"
      ]
     },
     "execution_count": 244,
     "metadata": {},
     "output_type": "execute_result"
    }
   ],
   "source": [
    "model.fit(x_train,one_hot_y_train,epochs=40)"
   ]
  },
  {
   "cell_type": "code",
   "execution_count": 245,
   "metadata": {},
   "outputs": [],
   "source": [
    "prediction = model.predict_classes(x_test[0].reshape(1,18))\n",
    "prediction_ = np.argmax(np_utils.to_categorical(predictions), axis = 1)\n",
    "predicted_label = str(le.inverse_transform(prediction_)[0])"
   ]
  },
  {
   "cell_type": "code",
   "execution_count": 246,
   "metadata": {},
   "outputs": [
    {
     "data": {
      "text/plain": [
       "'Native_App'"
      ]
     },
     "execution_count": 246,
     "metadata": {},
     "output_type": "execute_result"
    }
   ],
   "source": [
    "str(predicted_label)"
   ]
  },
  {
   "cell_type": "code",
   "execution_count": 247,
   "metadata": {},
   "outputs": [],
   "source": [
    "model.save(\"model.h5\")"
   ]
  },
  {
   "cell_type": "code",
   "execution_count": 248,
   "metadata": {},
   "outputs": [],
   "source": [
    "from keras.models import load_model"
   ]
  },
  {
   "cell_type": "code",
   "execution_count": 249,
   "metadata": {},
   "outputs": [],
   "source": [
    "model_=load_model(\"model.h5\")"
   ]
  },
  {
   "cell_type": "code",
   "execution_count": 250,
   "metadata": {},
   "outputs": [],
   "source": [
    "user_input=np.array([0., 0., 0., 0., 0., 0., 0., 0., 0., 0., 1., 0., 1., 0., 0., 0., 0.,\n",
    "       0.])"
   ]
  },
  {
   "cell_type": "code",
   "execution_count": 251,
   "metadata": {},
   "outputs": [],
   "source": [
    "prediction = model_.predict_classes(user_input.reshape(1,18))\n",
    "prediction_ = np.argmax(np_utils.to_categorical(prediction), axis = 1)\n",
    "predicted_label = str(le.inverse_transform(prediction_)[0])"
   ]
  },
  {
   "cell_type": "code",
   "execution_count": 252,
   "metadata": {},
   "outputs": [
    {
     "data": {
      "text/plain": [
       "'python1'"
      ]
     },
     "execution_count": 252,
     "metadata": {},
     "output_type": "execute_result"
    }
   ],
   "source": [
    "predicted_label"
   ]
  },
  {
   "cell_type": "code",
   "execution_count": 253,
   "metadata": {},
   "outputs": [
    {
     "data": {
      "text/plain": [
       "array([0., 0., 0., 0., 0., 0., 0., 0., 0., 0., 1., 0., 1., 0., 0., 0., 0.,\n",
       "       0.])"
      ]
     },
     "execution_count": 253,
     "metadata": {},
     "output_type": "execute_result"
    }
   ],
   "source": [
    "x_test[2]"
   ]
  },
  {
   "cell_type": "code",
   "execution_count": 254,
   "metadata": {},
   "outputs": [
    {
     "data": {
      "text/plain": [
       "array(['python1'], dtype=object)"
      ]
     },
     "execution_count": 254,
     "metadata": {},
     "output_type": "execute_result"
    }
   ],
   "source": [
    "k=model.predict_classes(x_test[2].reshape(1,18))\n",
    "t=np.argmax(np_utils.to_categorical(k), axis = 1)\n",
    "le.inverse_transform(t)"
   ]
  },
  {
   "cell_type": "code",
   "execution_count": 255,
   "metadata": {},
   "outputs": [
    {
     "data": {
      "text/plain": [
       "array([ 9, 13, 10,  8, 14, 12,  7,  1,  9,  1,  9,  8,  5,  6, 12,  1, 12,\n",
       "        4,  7,  7])"
      ]
     },
     "execution_count": 255,
     "metadata": {},
     "output_type": "execute_result"
    }
   ],
   "source": [
    "le.transform(y_test)"
   ]
  },
  {
   "cell_type": "code",
   "execution_count": null,
   "metadata": {},
   "outputs": [],
   "source": []
  }
 ],
 "metadata": {
  "kernelspec": {
   "display_name": "Python 3",
   "language": "python",
   "name": "python3"
  },
  "language_info": {
   "codemirror_mode": {
    "name": "ipython",
    "version": 3
   },
   "file_extension": ".py",
   "mimetype": "text/x-python",
   "name": "python",
   "nbconvert_exporter": "python",
   "pygments_lexer": "ipython3",
   "version": "3.5.2"
  }
 },
 "nbformat": 4,
 "nbformat_minor": 2
}
